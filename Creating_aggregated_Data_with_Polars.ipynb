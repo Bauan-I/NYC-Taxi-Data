{
  "nbformat": 4,
  "nbformat_minor": 0,
  "metadata": {
    "colab": {
      "provenance": [],
      "machine_shape": "hm",
      "gpuType": "A100"
    },
    "kernelspec": {
      "name": "python3",
      "display_name": "Python 3"
    },
    "language_info": {
      "name": "python"
    }
  },
  "cells": [
    {
      "cell_type": "code",
      "source": [
        "# I used colab for this part, to use the additional Ram that they provide, to be able to run demanding queries.\n",
        "# I even used an advanced GPU to utilise the extra Ram that came with it.\n",
        "# This way some calculations finished in 10% of the time. Others only became posssible this way.\n",
        "import polars as pl\n",
        "from datetime import timedelta, datetime\n",
        "import math"
      ],
      "metadata": {
        "id": "T5RdOnj5iZ_l"
      },
      "execution_count": 2,
      "outputs": []
    },
    {
      "cell_type": "code",
      "source": [
        "# with scan, a file can be read into a lazy format. it takes considerably less time and ram.\n",
        "parq = pl.scan_parquet(\"/content/drive/MyDrive/Taxitaxi/Combined_Parquet/Polars/*\")"
      ],
      "metadata": {
        "id": "Z92NSk6zg1L-"
      },
      "execution_count": 2,
      "outputs": []
    },
    {
      "cell_type": "code",
      "source": [
        "# with read, a usual dataframe is being created. requires more ressoures.\n",
        "# to counter that, only the desired columns can be selected and read\n",
        "columns='PULocationID'\n",
        "parq = pl.read_parquet(\"/content/drive/MyDrive/Taxitaxi/Combined_Parquet/Polars/*\",columns=columns)\n"
      ],
      "metadata": {
        "id": "LjdQmEpjrFvf"
      },
      "execution_count": null,
      "outputs": []
    },
    {
      "cell_type": "code",
      "source": [
        "# the given date format is has the format dd/mm/yyyy/HH/MM/SS, which increases the size.\n",
        "#in the following line, new columns for the single parts replace the actual date column\n",
        "#this allows easier filtering and reduces the data size\n",
        "\n",
        "parq=parq.with_columns(pl.col(\"tpep_pickup_datetime\").dt.year().alias(\"Year\"))\n",
        "parq=parq.with_columns(pl.col(\"tpep_pickup_datetime\").dt.weekday().alias(\"Weekday\"))\n",
        "parq=parq.with_columns(pl.col(\"tpep_pickup_datetime\").dt.month().alias(\"Month\"))\n",
        "parq=parq.with_columns(pl.col(\"tpep_pickup_datetime\").dt.day().alias(\"Day\"))\n",
        "parq=parq.with_columns(pl.col(\"tpep_pickup_datetime\").dt.hour().alias(\"Hour\"))\n",
        "\n",
        "#afterwards, the needed columns can be kept and the rest dropped\n",
        "columns=['PULocationID',\"Year\",\"trip_distance\",\"total_amount\"]\n",
        "parq=parq.select(pl.col(columns))\n",
        "parq.columns"
      ],
      "metadata": {
        "colab": {
          "base_uri": "https://localhost:8080/"
        },
        "id": "KUBm17U-uc9U",
        "outputId": "ad6781f7-f9fc-459a-cc9d-1d472d671f6e"
      },
      "execution_count": 3,
      "outputs": [
        {
          "output_type": "execute_result",
          "data": {
            "text/plain": [
              "['PULocationID', 'Year', 'trip_distance', 'total_amount']"
            ]
          },
          "metadata": {},
          "execution_count": 3
        }
      ]
    },
    {
      "cell_type": "markdown",
      "source": [
        "#In the following, I created a code for every type of groupby+aggregation I needed for a specific insight"
      ],
      "metadata": {
        "id": "OJTMm-D7Hk6Y"
      }
    },
    {
      "cell_type": "code",
      "source": [
        "\n",
        "tripsperyear=(parq\n",
        " .select(\n",
        "    pl.col(\"Year\",\"PULocationID\"))\n",
        " .groupby(\"PULocationID\",\"Year\")\n",
        " .agg([pl.col(\"Year\").count().alias(\"Number of Trips\")])\n",
        "  .collect()\n",
        ")\n"
      ],
      "metadata": {
        "id": "JYVtWAvcZudX"
      },
      "execution_count": 7,
      "outputs": []
    },
    {
      "cell_type": "code",
      "source": [
        "tripdistanceperyear=(parq\n",
        " .select(\n",
        "    pl.col(\"Year\",\"trip_distance\",\"PULocationID\"))\n",
        " .groupby(\"Year\")\n",
        " .agg([pl.col(\"PULocationID\").count().alias(\"Number of Trips\"),pl.col(\"trip_distance\").sum().alias(\"Trip_distance\")])\n",
        "  .collect()\n",
        ")"
      ],
      "metadata": {
        "id": "nNNOQoUqRjdl"
      },
      "execution_count": 4,
      "outputs": []
    },
    {
      "cell_type": "code",
      "source": [
        "tripsperhour=(parq\n",
        " .select(\n",
        "    pl.col(\"Hour\",\"PULocationID\"))\n",
        " .groupby(\"PULocationID\",\"Hour\")\n",
        " .agg([pl.col(\"Hour\").count().alias(\"Number of Trips\")])\n",
        "  .collect()\n",
        ")\n"
      ],
      "metadata": {
        "id": "BjPm-99-Jfzy"
      },
      "execution_count": 5,
      "outputs": []
    },
    {
      "cell_type": "code",
      "source": [
        "revenue_monthly=(parq\n",
        " .select(\n",
        "    pl.col(\"total_amount\",\"Month\",\"PULocationID\"))\n",
        " .groupby(\"Month\",\"PULocationID\")\n",
        " .agg([pl.col(\"total_amount\").mean().alias(\"Mean Revenue\")])\n",
        "  .collect()\n",
        ")"
      ],
      "metadata": {
        "id": "R8roTvRkEm9g"
      },
      "execution_count": null,
      "outputs": []
    },
    {
      "cell_type": "code",
      "source": [
        "revenuepertrip=(parq\n",
        " .select(\n",
        "    pl.col(\"Year\",\"PULocationID\",\"total_amount\"))\n",
        " .groupby(\"PULocationID\")\n",
        " .agg([pl.col(\"Hour\").count().alias(\"Number of Trips\"),pl.col(\"total_amount\").sum().alias(\"Revenue\")])\n",
        "  .collect()\n",
        ")\n"
      ],
      "metadata": {
        "id": "RZ3yuAFOuvm0"
      },
      "execution_count": 7,
      "outputs": []
    },
    {
      "cell_type": "code",
      "source": [
        "revenueperyear=(parq\n",
        " .select(\n",
        "    pl.col(\"Year\",\"Day\",\"PULocationID\",\"total_amount\"))\n",
        " .groupby(\"PULocationID\",\"Year\")\n",
        " .agg([pl.col(\"Day\").count().alias(\"Number of Trips\"),pl.col(\"total_amount\").sum().alias(\"Revenue\")])\n",
        "  .collect()\n",
        ")"
      ],
      "metadata": {
        "id": "B3xV1qoPGpeg"
      },
      "execution_count": 4,
      "outputs": []
    },
    {
      "cell_type": "code",
      "source": [
        "#have a glimpse of the output without loading it completely\n",
        "tripdistanceperyear.glimpse"
      ],
      "metadata": {
        "id": "IqCaSpGNOM6i"
      },
      "execution_count": null,
      "outputs": []
    },
    {
      "cell_type": "code",
      "source": [
        "#saving the output to the online drive\n",
        "tripdistanceperyear.write_csv(r\"/content/drive/MyDrive/Taxitaxi/Tableau/tripdistanceperyear.csv\")"
      ],
      "metadata": {
        "id": "mVnKtXiR5CDV"
      },
      "execution_count": 5,
      "outputs": []
    }
  ]
}