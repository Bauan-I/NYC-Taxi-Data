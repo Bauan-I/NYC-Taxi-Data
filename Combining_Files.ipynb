{
  "nbformat": 4,
  "nbformat_minor": 0,
  "metadata": {
    "colab": {
      "provenance": [],
      "gpuType": "A100"
    },
    "kernelspec": {
      "name": "python3",
      "display_name": "Python 3"
    },
    "language_info": {
      "name": "python"
    }
  },
  "cells": [
    {
      "cell_type": "markdown",
      "source": [
        "#The original data set consists of 12*12 files, one for each month from 2011-2022\n",
        "#Using those directly in SQL was not possible.\n",
        "#To simplify my queries, I combined the files into 12, one for each year.\n",
        "#To find find the best way regarding performance and storage size, I tried different methods.\n"
      ],
      "metadata": {
        "id": "n2MTLfTzRfY1"
      }
    },
    {
      "cell_type": "code",
      "source": [
        "import pandas as pd\n",
        "import pyarrow.parquet as pq\n",
        "import os\n",
        "import glob, os\n",
        "import pandas as pd\n",
        "import polars as pl"
      ],
      "metadata": {
        "id": "04DLDv9sRecm"
      },
      "execution_count": null,
      "outputs": []
    },
    {
      "cell_type": "code",
      "execution_count": null,
      "metadata": {
        "id": "id6dLCXrOXuT"
      },
      "outputs": [],
      "source": [
        "# At first I used Pandas to transform each parquet into a CSV file.\n",
        "#I tried this, to have CSVs to import into SQL. Two issues arose:\n",
        "#The combined files where 6 times larger than the actual parquet files\n",
        "#And the import into MYSQL turned out to be too slow.\n",
        "#Even with a reading speed of 10.000 rows per minute, it would have taken months to import 1 Billion rows.\n",
        "\n",
        "\n",
        "months=range(1,13)\n",
        "years=range(2011,2023)\n",
        "\n",
        "for y in years:\n",
        "    for x in months:\n",
        "        if x>9:\n",
        "            path=r\"/content/drive/MyDrive/Taxitaxi/By year/{year}/yellow_tripdata_{year}-{month}.parquet\".format(year=y,month=x)\n",
        "\n",
        "            parq= pd.read_parquet(path)\n",
        "            parq.to_csv(r\"/content/drive/MyDrive/Taxitaxi/CSVs/{year}/yellow_tripdata_{year}-{month}\".format(year=y,month=x))\n",
        "\n",
        "        else:\n",
        "            path=r\"/content/drive/MyDrive/Taxitaxi/By year/{year}/yellow_tripdata_{year}-0{month}.parquet\".format(year=y,month=x)\n",
        "            parq= pd.read_parquet(path)\n",
        "            parq.to_csv(r\"/content/drive/MyDrive/Taxitaxi/CSVs/{year}/yellow_tripdata_{year}-0{month}\".format(year=y,month=x))\n",
        "\n",
        "        print(y, x)\n",
        "\n",
        "print(\"fertig\")"
      ]
    },
    {
      "cell_type": "code",
      "source": [
        "#I started combining the files into 12 bigger ones, to work with them directly in Python\n",
        "#Here I used Pandas agaiin, to concatinate and save them as parquets.\n",
        "#I already excluded multiple columns, which where of little use\n",
        "#Still, Pandas is just made for data, that is much smaller than the available RAM\n",
        "\n",
        "\n",
        "print(\"start\")\n",
        "\n",
        "\n",
        "columns=['tpep_pickup_datetime', 'tpep_dropoff_datetime',  'trip_distance',\n",
        "'PULocationID','DOLocationID','total_amount','tip_amount']\n",
        "\n",
        "months=range(1,13)\n",
        "years=range(2011,2023)\n",
        "\n",
        "for y in years:\n",
        "    for x in months:\n",
        "        if x==1:\n",
        "            path=r\"/content/drive/MyDrive/Taxitaxi/By year/{year}/yellow_tripdata_{year}-0{month}.parquet\".format(year=y,month=x)\n",
        "            combined= pd.read_parquet(path,columns=columns)\n",
        "        elif x>9:\n",
        "            path=r\"/content/drive/MyDrive/Taxitaxi/By year/{year}/yellow_tripdata_{year}-{month}.parquet\".format(year=y,month=x)\n",
        "            parq=pd.read_parquet(path,columns=columns)\n",
        "            combined=pd.concat([combined,parq])\n",
        "        else:\n",
        "            path=r\"/content/drive/MyDrive/Taxitaxi/By year/{year}/yellow_tripdata_{year}-0{month}.parquet\".format(year=y,month=x)\n",
        "            parq= pd.read_parquet(path,columns=columns)\n",
        "            combined=pd.concat([combined,parq])\n",
        "        print(y, x)\n",
        "    combined.to_parquet(r\"/content/drive/MyDrive/Taxitaxi/Combined_Parquet/Pandas/yellow_tripdata_{year}\".format(year=y))\n",
        "\n",
        "\n",
        "\n",
        "print(\"fertig\")\n",
        "\n",
        "\n",
        "#All columns\n",
        "#'VendorID', 'tpep_pickup_datetime', 'tpep_dropoff_datetime', 'passenger_count',\n",
        "# 'trip_distance', 'RatecodeID', 'store_and_fwd_flag', 'PULocationID', 'DOLocationID',\n",
        "# 'payment_type', 'fare_amount', 'extra', 'mta_tax', 'tip_amount', 'tolls_amount',\n",
        "# 'improvement_surcharge', 'total_amount', 'congestion_surcharge', 'airport_fee'\n",
        "\n"
      ],
      "metadata": {
        "id": "R1vHmvMnpLFm"
      },
      "execution_count": null,
      "outputs": []
    },
    {
      "cell_type": "code",
      "source": [
        "#I tried the same method, but with the Polars library.\n",
        "#This turned out to be much more reliable, faster and less taxing on the hardware\n",
        "#Polars is espescially made for larger data sets, which would exceed the available RAM\n",
        "\n",
        "print(\"start\")\n",
        "\n",
        "columns=['tpep_pickup_datetime', 'tpep_dropoff_datetime',  'trip_distance',\n",
        "'PULocationID','DOLocationID','total_amount','tip_amount']\n",
        "\n",
        "months=range(1,13)\n",
        "years=range(2011,2023)\n",
        "\n",
        "for y in years:\n",
        "    for x in months:\n",
        "        if x==1:\n",
        "            path=r\"/content/drive/MyDrive/Taxitaxi/By year/{year}/yellow_tripdata_{year}-0{month}.parquet\".format(year=y,month=x)\n",
        "            combined= pl.read_parquet(path,columns=columns).fill_nan(0)\n",
        "        elif x>9:\n",
        "            path=r\"/content/drive/MyDrive/Taxitaxi/By year/{year}/yellow_tripdata_{year}-{month}.parquet\".format(year=y,month=x)\n",
        "            parq= pl.read_parquet(path,columns=columns).fill_nan(0)\n",
        "            combined=pl.concat([combined,parq])\n",
        "        else:\n",
        "            path=r\"/content/drive/MyDrive/Taxitaxi/By year/{year}/yellow_tripdata_{year}-0{month}.parquet\".format(year=y,month=x)\n",
        "            parq= pl.read_parquet(path,columns=columns).fill_nan(0)\n",
        "            combined=pl.concat([combined,parq])\n",
        "        print(y, x)\n",
        "        print(len(combined))\n",
        "    combined.write_parquet(r\"/content/drive/MyDrive/Taxitaxi/Combined_Parquet/Polars/yellow_tripdata_{year}\".format(year=y))\n",
        "\n",
        "\n",
        "print(\"fertig\")\n",
        "\n",
        "\n",
        "# All Columns\n",
        "#'VendorID', 'tpep_pickup_datetime', 'tpep_dropoff_datetime', 'passenger_count',\n",
        "# 'trip_distance', 'RatecodeID', 'store_and_fwd_flag', 'PULocationID', 'DOLocationID',\n",
        "# 'payment_type', 'fare_amount', 'extra', 'mta_tax', 'tip_amount', 'tolls_amount',\n",
        "# 'improvement_surcharge', 'total_amount', 'congestion_surcharge', 'airport_fee'\n",
        "\n",
        "\n"
      ],
      "metadata": {
        "id": "ljBQ38Y1Zrll"
      },
      "execution_count": null,
      "outputs": []
    }
  ]
}